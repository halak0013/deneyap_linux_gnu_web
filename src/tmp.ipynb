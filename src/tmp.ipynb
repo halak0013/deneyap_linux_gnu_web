{
 "cells": [
  {
   "cell_type": "code",
   "execution_count": 1,
   "metadata": {},
   "outputs": [
    {
     "name": "stdout",
     "output_type": "stream",
     "text": [
      "Dosya mevcut değil.\n",
      "Dosya oluşturuldu.\n",
      "{'Board Name': 'FQBN', 'Deneyap Kart': 'deneyap:esp32:dydk_mpv10', 'Deneyap Kart 1A': 'deneyap:esp32:dydk1a_mpv10', 'Deneyap Kart 1A v2': 'deneyap:esp32:dydk1a_mpv20', 'Deneyap Kart G': 'deneyap:esp32:dyg_mpv10', 'Deneyap Mini': 'deneyap:esp32:dym_mpv10', 'Deneyap Mini v2': 'deneyap:esp32:dym_mpv20'}\n"
     ]
    }
   ],
   "source": [
    "import os\n",
    "\n",
    "\n",
    "def dosya_var_mi(dosya_yolu):\n",
    "    \"\"\"\n",
    "    Belirtilen dosya yolunda bir dosyanın var olup olmadığını kontrol eder.\n",
    "\n",
    "    Args:\n",
    "    dosya_yolu (str): Kontrol edilecek dosyanın tam yolu.\n",
    "\n",
    "    Returns:\n",
    "    bool: Dosya varsa True, yoksa False döner.\n",
    "    \"\"\"\n",
    "    return os.path.exists(dosya_yolu)\n",
    "\n",
    "\n",
    "def dosya_olustur(dosya_yolu):\n",
    "    \"\"\"\n",
    "    Belirtilen dosya yolunda bir dosya oluşturur.\n",
    "\n",
    "    Args:\n",
    "    dosya_yolu (str): Oluşturulacak dosyanın tam yolu.\n",
    "    \"\"\"\n",
    "    with open(dosya_yolu, 'w'):\n",
    "        pass\n",
    "\n",
    "\n",
    "dosya_yolu = \"C:\\\\Users\\\\mehmetakif.erdem\\\\Desktop\\\\Bel22.pdf\"  # Dosyanın tam yolunu buraya girin\n",
    "if dosya_var_mi(dosya_yolu):\n",
    "    print(\"Dosya mevcut.\")\n",
    "else:\n",
    "    print(\"Dosya mevcut değil.\")\n",
    "    dosya_olustur(dosya_yolu)\n",
    "    print(\"Dosya oluşturuldu.\")\n",
    "\n",
    "def string_to_dict(input_string):\n",
    "    board_dict = {}\n",
    "    lines = input_string.strip().split(\"\\n\")\n",
    "    for line in lines:\n",
    "        parts = line.split()\n",
    "        if len(parts) >= 2:\n",
    "            board_name = \" \".join(parts[:-1])\n",
    "            fqbn = parts[-1]\n",
    "            board_dict[board_name] = fqbn\n",
    "    return board_dict\n",
    "\n",
    "\n",
    "input_string = \"\"\"\n",
    "Board Name         FQBN\n",
    "\n",
    "Deneyap Kart       deneyap:esp32:dydk_mpv10\n",
    "\n",
    "Deneyap Kart 1A    deneyap:esp32:dydk1a_mpv10\n",
    "\n",
    "Deneyap Kart 1A v2 deneyap:esp32:dydk1a_mpv20\n",
    "\n",
    "Deneyap Kart G     deneyap:esp32:dyg_mpv10\n",
    "\n",
    "Deneyap Mini       deneyap:esp32:dym_mpv10\n",
    "\n",
    "Deneyap Mini v2    deneyap:esp32:dym_mpv20\n",
    "\n",
    "\n",
    "\"\"\"\n",
    "\n",
    "board_dict = string_to_dict(input_string)\n",
    "print(board_dict)"
   ]
  },
  {
   "cell_type": "code",
   "execution_count": 3,
   "metadata": {},
   "outputs": [
    {
     "name": "stdout",
     "output_type": "stream",
     "text": [
      "{'Deneyap Kart': 'deneyap:esp32:dydk_mpv10', 'Deneyap Kart 1A': 'deneyap:esp32:dydk1a_mpv10', 'Deneyap Kart 1A v2': 'deneyap:esp32:dydk1a_mpv20', 'Deneyap Kart G': 'deneyap:esp32:dyg_mpv10', 'Deneyap Mini': 'deneyap:esp32:dym_mpv10', 'Deneyap Mini v2': 'deneyap:esp32:dym_mpv20'}\n"
     ]
    }
   ],
   "source": [
    "def string_to_dict(input_string):\n",
    "    board_dict = {}\n",
    "    \n",
    "    \n",
    "    lines = input_string.strip().split(\"\\n\")\n",
    "    for line in lines:\n",
    "        if line.startswith(\"Board Name\"):\n",
    "            continue\n",
    "        parts = line.split()\n",
    "        if len(parts) >= 2:\n",
    "            board_name = \" \".join(parts[:-1])\n",
    "            fqbn = parts[-1]\n",
    "            board_dict[board_name] = fqbn\n",
    "    return board_dict\n",
    "\n",
    "input_string = \"\"\"\n",
    "Board Name         FQBN\n",
    "\n",
    "Deneyap Kart       deneyap:esp32:dydk_mpv10\n",
    "\n",
    "Deneyap Kart 1A    deneyap:esp32:dydk1a_mpv10\n",
    "\n",
    "Deneyap Kart 1A v2 deneyap:esp32:dydk1a_mpv20\n",
    "\n",
    "Deneyap Kart G     deneyap:esp32:dyg_mpv10\n",
    "\n",
    "Deneyap Mini       deneyap:esp32:dym_mpv10\n",
    "\n",
    "Deneyap Mini v2    deneyap:esp32:dym_mpv20\n",
    "\n",
    "\n",
    "\"\"\"\n",
    "\n",
    "board_dict = string_to_dict(input_string)\n",
    "print(board_dict)"
   ]
  },
  {
   "cell_type": "code",
   "execution_count": 5,
   "metadata": {},
   "outputs": [
    {
     "name": "stdout",
     "output_type": "stream",
     "text": [
      "/dev/ttyUSB0 dosyasına yazma izinleri mevcut.\n"
     ]
    }
   ],
   "source": [
    "import os\n",
    "import subprocess\n",
    "\n",
    "def check_permissions(device_path):\n",
    "    try:\n",
    "        # ls -l komutu ile cihazın izinlerini al\n",
    "        result = subprocess.run(['ls', '-l', device_path], capture_output=True, text=True, check=True)\n",
    "        output_lines = result.stdout.splitlines()\n",
    "\n",
    "        # İlk satırı al ve izinleri çözümle\n",
    "        permissions = output_lines[0].split()[0]\n",
    "\n",
    "        # Gerekli izinleri kontrol et\n",
    "        if 'rw' not in permissions:\n",
    "            print(f\"Uyarı: {device_path} dosyasına yazma izinleri yok. 'sudo chmod a+rw {device_path}' komutunu kullanabilirsiniz.\")\n",
    "        else:\n",
    "            print(f\"{device_path} dosyasına yazma izinleri mevcut.\")\n",
    "\n",
    "    except subprocess.CalledProcessError as e:\n",
    "        print(f\"Hata: ls komutu çalıştırılırken bir hata oluştu. Hata çıktısı: {e.stderr}\")\n",
    "\n",
    "# Fonksiyonu kullanarak izinleri kontrol et\n",
    "device_path = '/dev/ttyUSB0'\n",
    "check_permissions(device_path)\n"
   ]
  },
  {
   "cell_type": "code",
   "execution_count": null,
   "metadata": {},
   "outputs": [],
   "source": [
    "import gi,os\n",
    "gi.require_version('Gtk', '3.0')\n",
    "from gi.repository import Gtk\n",
    "\n",
    "try:\n",
    "    gi.require_version('AppIndicator3', '0.1')\n",
    "    from gi.repository import AppIndicator3\n",
    "except:\n",
    "    # fall back to Ayatana\n",
    "    gi.require_version('AyatanaAppIndicator3', '0.1')\n",
    "    from gi.repository import AyatanaAppIndicator3 as AppIndicator3\n",
    "\n",
    "class SystemTrayApp:\n",
    "    def __init__(self):\n",
    "        self.indicator = AppIndicator3.Indicator.new(\n",
    "            \"my-indicator\",\n",
    "            os.path.dirname(\n",
    "            os.path.abspath(__file__)) + \"/../data/deneyap.svg\",  # İkonunuzun dosya yolunu buraya ekleyin\n",
    "            AppIndicator3.IndicatorCategory.APPLICATION_STATUS\n",
    "        )\n",
    "        self.indicator.set_status(AppIndicator3.IndicatorStatus.ACTIVE)\n",
    "\n",
    "        # Sistem tepsisi menüsünü oluşturun\n",
    "        self.menu = Gtk.Menu()\n",
    "\n",
    "        # Menü öğesi ekleyin\n",
    "        self.quit_item = Gtk.MenuItem(label=\"Quit\")\n",
    "        self.quit_item.connect(\"activate\", self.quit)\n",
    "        self.menu.append(self.quit_item)\n",
    "\n",
    "        # Menüyü göster\n",
    "        self.menu.show_all()\n",
    "\n",
    "        # İndikatöre menüyü bağlayın\n",
    "        self.indicator.set_menu(self.menu)\n",
    "\n",
    "    def quit(self, source):\n",
    "        Gtk.main_quit()\n",
    "\n",
    "if __name__ == \"__main__\":\n",
    "    app = SystemTrayApp()\n",
    "    Gtk.main()\n"
   ]
  },
  {
   "cell_type": "code",
   "execution_count": 2,
   "metadata": {},
   "outputs": [
    {
     "data": {
      "text/plain": [
       "['tr.po', 'deneyap.pot', 'ar.po', 'files']"
      ]
     },
     "execution_count": 2,
     "metadata": {},
     "output_type": "execute_result"
    }
   ],
   "source": [
    "import os\n",
    "os.listdir(\"../po\")"
   ]
  }
 ],
 "metadata": {
  "kernelspec": {
   "display_name": "Python 3",
   "language": "python",
   "name": "python3"
  },
  "language_info": {
   "codemirror_mode": {
    "name": "ipython",
    "version": 3
   },
   "file_extension": ".py",
   "mimetype": "text/x-python",
   "name": "python",
   "nbconvert_exporter": "python",
   "pygments_lexer": "ipython3",
   "version": "3.11.2"
  }
 },
 "nbformat": 4,
 "nbformat_minor": 2
}
